{
 "cells": [
  {
   "cell_type": "markdown",
   "metadata": {},
   "source": [
    "geoPack: geographic/geometric module\n",
    "==\n",
    "***\n",
    "This Notebook presents the functions contained in the geoPack submodule of the utils module. Functions in this submodule are designed to calculate geographic position, account for the oblateness of the Earth, convert between simple geometric/geographic coordinate systems...\n"
   ]
  },
  {
   "cell_type": "code",
   "execution_count": null,
   "metadata": {},
   "outputs": [],
   "source": [
    "%pylab inline\n",
    "from davitpy.utils.geoPack import *\n",
    "from mpl_toolkits.mplot3d import Axes3D\n",
    "import matplotlib.pyplot as plt"
   ]
  },
  {
   "cell_type": "code",
   "execution_count": null,
   "metadata": {},
   "outputs": [],
   "source": [
    "# Declare point of origin\n",
    "lat = 40.\n",
    "lon = -75.\n",
    "az = -20.\n",
    "el = 15.\n",
    "alt = 100.\n",
    "dist = 150.\n",
    "Rav = 6370."
   ]
  },
  {
   "cell_type": "code",
   "execution_count": null,
   "metadata": {},
   "outputs": [],
   "source": [
    "# Test geodToGeoc\n",
    "(gclat, gclon, Re) = geodToGeoc(lat, lon)\n",
    "print 'Geocentric latitude: {:5.4f}'.format(gclat)+unichr(176)+'N, longitude: {:5.4f}'.format(gclon)+unichr(176)+'E'\n",
    "print 'Earth radius {:5.4f} km'.format(Re)\n",
    "(gdlat, gdlon, Re) = geodToGeoc(gclat, gclon, inverse=True)\n",
    "print 'Geodetic latitude: {:5.4f}'.format(gdlat)+unichr(176)+'N, longitude: {:5.4f}'.format(gdlon)+unichr(176)+'E'\n",
    "print 'Earth radius {:5.4f} km'.format(Re)"
   ]
  },
  {
   "cell_type": "code",
   "execution_count": null,
   "metadata": {},
   "outputs": [],
   "source": [
    "# Test geodToGeocAzEl\n",
    "(gclat, gclon, Re, gaz, gel) = geodToGeocAzEl(lat,lon,az,el)\n",
    "print 'Geocentric latitude: {:5.4f}'.format(gclat)+unichr(176)+'N, longitude: {:5.4f}'.format(gclon)+unichr(176)+'E'\n",
    "print 'Geocentric Azimuth: {:5.4f}'.format(gaz)+unichr(176)+', elevation: {:5.4f}'.format(gel)+unichr(176)+'E'\n",
    "print 'Earth radius {:5.4f} km'.format(Re)\n",
    "(gdlat, gdlon, Re, gdaz, gdel) = geodToGeocAzEl(gclat,gclon,gaz,gel,inverse=True)\n",
    "print 'Geodetic latitude: {:5.4f}'.format(gdlat)+unichr(176)+'N, longitude: {:5.4f}'.format(gdlon)+unichr(176)+'E'\n",
    "print 'Geodetic Azimuth: {:5.4f}'.format(gdaz)+unichr(176)+', elevation: {:5.4f}'.format(gdel)+unichr(176)+'E'\n",
    "print 'Earth radius {:5.4f} km'.format(Re)"
   ]
  },
  {
   "cell_type": "code",
   "execution_count": null,
   "metadata": {},
   "outputs": [],
   "source": [
    "# Test gspToGcar\n",
    "(gclat, gclon, Re) = geodToGeoc(lat, lon)\n",
    "(X, Y, Z) = gspToGcar(gclat, gclon, Re+alt)\n",
    "print 'X: {:5.4f} km; Y: {:5.4f} km; Z: {:5.4f} km'.format(X,Y,Z)\n",
    "print 'Earth radius {:5.4f} km'.format(Re)\n",
    "(gclat, gclon, rho) = gspToGcar(X, Y, Z, inverse=True)\n",
    "print 'Geocentric latitude: {:5.4f}'.format(gclat)+unichr(176)+'N, longitude: {:5.4f}'.format(gclon)+unichr(176)+'E'\n",
    "(gdlat, gdlon, Re) = geodToGeoc(gclat, gclon, inverse=True)\n",
    "print 'Geodetic latitude: {:5.4f}'.format(gdlat)+unichr(176)+'N, longitude: {:5.4f}'.format(gdlon)+unichr(176)+'E'\n",
    "print 'Altitude {:5.4f} km'.format(rho-Re)\n",
    "print 'Earth radius {:5.4f} km'.format(Re)"
   ]
  },
  {
   "cell_type": "code",
   "execution_count": null,
   "metadata": {},
   "outputs": [],
   "source": [
    "# Test gspToGcar (graphic)\n",
    "fig = plt.figure(figsize(10,10))\n",
    "ax = fig.add_subplot(111, projection='3d')\n",
    "ax.plot3D([0,Rav],[0,0],[0,0],'b')\n",
    "ax.plot3D([0,0],[0,Rav],[0,0],'g')\n",
    "ax.plot3D([0,0],[0,0],[0,Rav],'r')\n",
    "u = np.linspace(0, 2 * np.pi, 19)\n",
    "v = np.linspace(0, np.pi, 19)\n",
    "tx = Rav * np.outer(np.cos(u), np.sin(v))\n",
    "ty = Rav * np.outer(np.sin(u), np.sin(v))\n",
    "tz = Rav * np.outer(np.ones(np.size(u)), np.cos(v))\n",
    "ax.plot_wireframe(tx,ty,tz,color='grey')\n",
    "ax.plot3D(Rav*np.cos(u),Rav*np.sin(u),'k')\n",
    "ax.plot3D(np.zeros(np.size(u)),Rav*np.cos(u),Rav*np.sin(u),'k')\n",
    "ax.plot3D(Rav*np.cos(u),np.zeros(np.size(u)),Rav*np.sin(u),'k')\n",
    "ax.scatter3D(X,Y,Z,marker='o',c='k',s=40)\n",
    "ax.view_init(30,-30)"
   ]
  },
  {
   "cell_type": "code",
   "execution_count": null,
   "metadata": {},
   "outputs": [],
   "source": [
    "# Test gcarToLcar\n",
    "(gclat, gclon, Re) = geodToGeoc(lat, lon)\n",
    "print 'Earth radius {:5.4f} km'.format(Re)\n",
    "(gX, gY, gZ) = gspToGcar(gclat, gclon, Re+alt)\n",
    "gX,gY,gZ = gX+100.,gY+0.,gZ+100. \n",
    "print 'Global--> X: {:5.4f} km; Y: {:5.4f} km; Z: {:5.4f} km; |P| = {:5.4f}'.format(gX,gY,gZ,sqrt(gX**2+gY**2+gZ**2))\n",
    "(lX, lY, lZ) = gcarToLcar(gX, gY, gZ, gclat, gclon, Re+alt)\n",
    "print 'Local--> X: {:5.4f} km; Y: {:5.4f} km; Z: {:5.4f} km; |P| = {:5.4f}'.format(lX,lY,lZ,sqrt(lX**2+lY**2+lZ**2))\n",
    "(gX, gY, gZ) = gcarToLcar(lX, lY, lZ, gclat, gclon, Re+alt, inverse=True)\n",
    "print 'Global--> X: {:5.4f} km; Y: {:5.4f} km; Z: {:5.4f} km; |P| = {:5.4f}'.format(gX,gY,gZ,sqrt(gX**2+gY**2+gZ**2))\n",
    "gX,gY,gZ = gX-100.,gY-0.,gZ-100. \n",
    "(gclat, gclon, rho) = gspToGcar(gX, gY, gZ, inverse=True)\n",
    "(gdlat, gdlon, Re) = geodToGeoc(gclat, gclon, inverse=True)\n",
    "print 'Geodetic latitude: {:5.4f}'.format(gdlat)+unichr(176)+'N, longitude: {:5.4f}'.format(gdlon)+unichr(176)+'E'\n",
    "print 'Altitude {:5.4f} km'.format(rho-Re)"
   ]
  },
  {
   "cell_type": "code",
   "execution_count": null,
   "metadata": {},
   "outputs": [],
   "source": [
    "# Draw 3d axes and plot point\n",
    "def set_axes_3d(ax):\n",
    "    # Plot global axis\n",
    "    ax.plot3D([-Rav,Rav],[0,0],[0,0],'b--')\n",
    "    ax.plot3D([0,0],[-Rav,Rav],[0,0],'g--')\n",
    "    ax.plot3D([0,0],[0,0],[-Rav,Rav],'r--')\n",
    "    # Plot position and projections\n",
    "    ax.plot3D([0,gX],[0,gY],[0,gZ],'k')\n",
    "    ax.plot3D([gX,gX],[0,gY],[gZ,gZ],'k--')\n",
    "    ax.plot3D([0,0],[0,gY],[gZ,gZ],'k--')\n",
    "    ax.plot3D([gX,gX],[0,gY],[0,0],'k--')\n",
    "    ax.plot3D([0,gX],[gY,gY],[gZ,gZ],'k--')\n",
    "    ax.plot3D([0,gX],[0,0],[gZ,gZ],'k--')\n",
    "    ax.plot3D([0,gX],[gY,gY],[0,0],'k--')\n",
    "    ax.plot3D([gX,gX],[gY,gY],[0,gZ],'k--')\n",
    "    ax.plot3D([0,0],[gY,gY],[0,gZ],'k--')\n",
    "    ax.plot3D([gX,gX],[0,0],[0,gZ],'k--')\n",
    "    ax.scatter3D(gX,gY,gZ,marker='o',c='k',s=40)\n",
    "    ax.set_xlim([-Rav,Rav])\n",
    "    ax.set_ylim([-Rav,Rav])\n",
    "    ax.set_zlim([-Rav,Rav])\n",
    "    # Plot local axis\n",
    "    (xax, xay, xaz) = gcarToLcar(llim, 0., 0., gclat, gclon, Re+alt, inverse=True)\n",
    "    (yax, yay, yaz) = gcarToLcar(0, llim, 0, gclat, gclon, Re+alt, inverse=True)\n",
    "    (zax, zay, zaz) = gcarToLcar(0, 0, llim, gclat, gclon, Re+alt, inverse=True)\n",
    "    ax.plot3D([gX,xax],[gY,xay],[gZ,xaz],'b')\n",
    "    ax.plot3D([gX,yax],[gY,yay],[gZ,yaz],'g')\n",
    "    ax.plot3D([gX,zax],[gY,zay],[gZ,zaz],'r')\n",
    "\n",
    "# Test gcarToLcar (graphic)\n",
    "fig = plt.figure(figsize(18,7))\n",
    "llim = 1000.\n",
    "\n",
    "# Plot global position (Longitude plane)\n",
    "ax = fig.add_subplot(131, projection='3d')\n",
    "set_axes_3d(ax)\n",
    "ax.view_init(0,lon)\n",
    "\n",
    "# Plot global position (Longitude+90. plane)\n",
    "ax = fig.add_subplot(132, projection='3d')\n",
    "set_axes_3d(ax)\n",
    "ax.view_init(0,lon+90.)\n",
    "\n",
    "# Plot global position (Top plane)\n",
    "ax = fig.add_subplot(133, projection='3d')\n",
    "set_axes_3d(ax)\n",
    "ax.view_init(90,lon)\n",
    "\n",
    "tight_layout()"
   ]
  },
  {
   "cell_type": "code",
   "execution_count": null,
   "metadata": {},
   "outputs": [],
   "source": [
    "# Test lspToLcar\n",
    "(gclat, gclon, Re, gaz, gel) = geodToGeocAzEl(lat,lon,az,el)\n",
    "print 'Earth radius {:5.4f} km'.format(Re)\n",
    "(lX, lY, lZ) = lspToLcar(gaz, gel, dist)\n",
    "print 'Local--> X: {:5.4f} km; Y: {:5.4f} km; Z: {:5.4f} km |P| = {:5.4f}'.format(lX,lY,lZ,sqrt(lX**2+lY**2+lZ**2))\n",
    "(gX, gY, gZ) = gcarToLcar(lX, lY, lZ, gclat, gclon, Re+alt, inverse=True)\n",
    "print 'Global--> X: {:5.4f} km; Y: {:5.4f} km; Z: {:5.4f} km |P| = {:5.4f}'.format(gX,gY,gZ,sqrt(gX**2+gY**2+gZ**2))\n",
    "(gclat, gclon, rho) = gspToGcar(gX, gY, gZ, inverse=True)\n",
    "(gdlat, gdlon, Re) = geodToGeoc(gclat, gclon, inverse=True)\n",
    "print 'Geodetic latitude: {:5.4f}'.format(gdlat)+unichr(176)+'N, longitude: {:5.4f}'.format(gdlon)+unichr(176)+'E'\n",
    "print 'Altitude {:5.4f} km'.format(rho-Re)\n",
    "(laz, lel, ldist) = lspToLcar(lX, lY, lZ, inverse=True)\n",
    "print 'Local Azimuth: {:5.4f}'.format(laz)+unichr(176)+', elevation: {:5.4f}'.format(lel)+unichr(176)+'E'\n",
    "(gclat, gclon, Re, gdaz, gdel) = geodToGeocAzEl(gclat,gclon,laz,lel,inverse=True)\n",
    "print 'Global Azimuth: {:5.4f}'.format(gdaz)+unichr(176)+', elevation: {:5.4f}'.format(gdel)+unichr(176)+'E'\n",
    "print 'Distance {:5.4f} km'.format(ldist)"
   ]
  },
  {
   "cell_type": "code",
   "execution_count": null,
   "metadata": {},
   "outputs": [],
   "source": [
    "# Test lspToLcar (graphic)\n",
    "llim = dist\n",
    "fig = plt.figure(figsize(10,10))\n",
    "ax = fig.add_subplot(111, projection='3d')\n",
    "ax.plot3D([-llim,llim],[0,0],[0,0],'b')\n",
    "ax.plot3D([0,0],[-llim,llim],[0,0],'g')\n",
    "ax.plot3D([0,0],[0,0],[-llim,llim],'r')\n",
    "ax.plot3D([0,lX],[0,lY],[0,lZ],'k')\n",
    "ax.plot3D([lX,lX],[0,lY],[lZ,lZ],'k--')\n",
    "ax.plot3D([0,0],[0,lY],[lZ,lZ],'k--')\n",
    "ax.plot3D([lX,lX],[0,lY],[0,0],'k--')\n",
    "ax.plot3D([0,lX],[lY,lY],[lZ,lZ],'k--')\n",
    "ax.plot3D([0,lX],[0,0],[lZ,lZ],'k--')\n",
    "ax.plot3D([0,lX],[lY,lY],[0,0],'k--')\n",
    "ax.plot3D([lX,lX],[lY,lY],[0,lZ],'k--')\n",
    "ax.plot3D([0,0],[lY,lY],[0,lZ],'k--')\n",
    "ax.plot3D([lX,lX],[0,0],[0,lZ],'k--')\n",
    "ax.scatter3D(lX,lY,lZ,marker='o',c='k',s=40)\n",
    "ax.set_xlim([-llim,llim])\n",
    "ax.set_ylim([-llim,llim])\n",
    "ax.set_zlim([-llim,llim])\n",
    "ax.view_init(20,-20)"
   ]
  },
  {
   "cell_type": "code",
   "execution_count": null,
   "metadata": {},
   "outputs": [],
   "source": [
    "# Test calcDistPnt\n",
    "dict = calcDistPnt(lat, lon, alt, \n",
    "    dist=dist, el=el, az=az)\n",
    "print 'Distant point latitude: {:5.4f}'.format(dict['distLat'])+unichr(176)+ \\\n",
    "    'N, longitude: {:5.4f}'.format(dict['distLon'])+unichr(176)+ \\\n",
    "    'E, altitude {:5.4f} km'.format(dict['distAlt'])\n",
    "\n",
    "dict = calcDistPnt(lat, lon, alt, \n",
    "    distLat=dict['distLat'], distLon=dict['distLon'], distAlt=dict['distAlt'])\n",
    "print 'Pointing Azimuth: {:5.4f}'.format(dict['az'])+unichr(176)+', elevation: {:5.4f}'.format(dict['el'])+unichr(176)+'E and distance: {:5.4f}'.format(dict['dist'])"
   ]
  },
  {
   "cell_type": "code",
   "execution_count": null,
   "metadata": {},
   "outputs": [],
   "source": []
  }
 ],
 "metadata": {
  "kernelspec": {
   "display_name": "Python 2",
   "language": "python",
   "name": "python2"
  },
  "language_info": {
   "codemirror_mode": {
    "name": "ipython",
    "version": 2
   },
   "file_extension": ".py",
   "mimetype": "text/x-python",
   "name": "python",
   "nbconvert_exporter": "python",
   "pygments_lexer": "ipython2",
   "version": "2.7.13"
  }
 },
 "nbformat": 4,
 "nbformat_minor": 1
}
