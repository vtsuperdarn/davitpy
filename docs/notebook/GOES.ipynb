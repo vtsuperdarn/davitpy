{
 "cells": [
  {
   "cell_type": "markdown",
   "metadata": {},
   "source": [
    "# This notebook shows how to download and plot GOES data."
   ]
  },
  {
   "cell_type": "code",
   "execution_count": null,
   "metadata": {},
   "outputs": [],
   "source": [
    "# Import required libraries.\n",
    "%pylab inline\n",
    "from matplotlib import pyplot as plt\n",
    "import datetime\n",
    "from davitpy import gme #This is the DavitPy GeoMagnetic Environment module"
   ]
  },
  {
   "cell_type": "code",
   "execution_count": null,
   "metadata": {},
   "outputs": [],
   "source": [
    "# Define the start time, end time, and which GOES Satellite to use.\n",
    "# Make sure the satellite is available for your particular interval period.\n",
    "# Data will be downloaded directly from NOAA at\n",
    "# ftp://satdat.ngdc.noaa.gov/sem/goes/data/new_avg/\n",
    "\n",
    "sTime       = datetime.datetime(2014,5,21)\n",
    "eTime       = datetime.datetime(2014,5,24)\n",
    "sat_nr      = 15"
   ]
  },
  {
   "cell_type": "code",
   "execution_count": null,
   "metadata": {},
   "outputs": [],
   "source": [
    "# This routine will download the data from NOAA and populate a dictionary containing\n",
    "# metadata and a dataframe with the GOES data data.\n",
    "# This routine downloads the 1-min Avg X-Xray flux data for two bands\n",
    "# (0.05-0.4 nm and 0.1-0.8 nm).\n",
    "\n",
    "goes_data   = gme.sat.read_goes(sTime,eTime,sat_nr)"
   ]
  },
  {
   "cell_type": "code",
   "execution_count": null,
   "metadata": {},
   "outputs": [],
   "source": [
    "# This routine will use the dictionary format provided above to plot the GOES data.\n",
    "\n",
    "fig         = gme.sat.goes_plot(goes_data)"
   ]
  },
  {
   "cell_type": "markdown",
   "metadata": {},
   "source": [
    "# Finding and Plotting Large Flares"
   ]
  },
  {
   "cell_type": "code",
   "execution_count": null,
   "metadata": {},
   "outputs": [],
   "source": [
    "#Load in a large amount of GOES data...\n",
    "sTime       = datetime.datetime(2014,1,1)\n",
    "eTime       = datetime.datetime(2014,6,30)\n",
    "sat_nr      = 15\n",
    "goes_data   = gme.sat.read_goes(sTime,eTime,sat_nr)"
   ]
  },
  {
   "cell_type": "code",
   "execution_count": null,
   "metadata": {},
   "outputs": [],
   "source": [
    "#Find all of the X-Class flares in that time period (using 60-minute windowing)\n",
    "flares      = gme.sat.find_flares(goes_data,min_class='X1',window_minutes=60)\n",
    "flares"
   ]
  },
  {
   "cell_type": "code",
   "execution_count": null,
   "metadata": {},
   "outputs": [],
   "source": [
    "#Now create a plot for each flare.\n",
    "for key,flare in flares.iterrows():\n",
    "    #Create the figure and axis.\n",
    "    fig     = plt.figure(figsize=(10,8))\n",
    "    ax      = fig.add_subplot(111)\n",
    "    \n",
    "    #Label and plot just the flare max.\n",
    "    label   = '{0} Class Flare @ {1}'.format(flare['class'],key.strftime('%H%M UT'))\n",
    "    ax.plot(key,flare['B_AVG'],'o',label=label)\n",
    "    \n",
    "    #Now plot the GOES data around the flare.\n",
    "    plot_sTime  = key - datetime.timedelta(hours=12)\n",
    "    plot_eTime  = key + datetime.timedelta(hours=12)\n",
    "    gme.sat.goes_plot(goes_data,ax=ax,sTime=plot_sTime,eTime=plot_eTime)\n",
    "    fig.show()"
   ]
  },
  {
   "cell_type": "code",
   "execution_count": null,
   "metadata": {
    "collapsed": true
   },
   "outputs": [],
   "source": []
  }
 ],
 "metadata": {
  "kernelspec": {
   "display_name": "Python 2",
   "language": "python",
   "name": "python2"
  },
  "language_info": {
   "codemirror_mode": {
    "name": "ipython",
    "version": 2
   },
   "file_extension": ".py",
   "mimetype": "text/x-python",
   "name": "python",
   "nbconvert_exporter": "python",
   "pygments_lexer": "ipython2",
   "version": "2.7.13"
  }
 },
 "nbformat": 4,
 "nbformat_minor": 1
}
