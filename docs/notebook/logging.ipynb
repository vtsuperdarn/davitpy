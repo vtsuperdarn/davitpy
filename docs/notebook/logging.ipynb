{
 "metadata": {
  "name": "",
  "signature": "sha256:5251cfd39b515c03b05b84177aaa837e236cede557bfb7dc90046c9094700d2c"
 },
 "nbformat": 3,
 "nbformat_minor": 0,
 "worksheets": [
  {
   "cells": [
    {
     "cell_type": "heading",
     "level": 1,
     "metadata": {},
     "source": [
      "Logging"
     ]
    },
    {
     "cell_type": "markdown",
     "metadata": {},
     "source": [
      "davitpy makes use of Python's built-in logging facility. This is a short introduction to Python's logging module."
     ]
    },
    {
     "cell_type": "heading",
     "level": 2,
     "metadata": {},
     "source": [
      "Short and simple version"
     ]
    },
    {
     "cell_type": "markdown",
     "metadata": {},
     "source": [
      "To set the verbosity level of log messages, run the following code, using either `DEBUG` (shows all messages), `INFO`, `WARNING`, `ERROR`, or `CRITICAL` (hides everything except critical messages):"
     ]
    },
    {
     "cell_type": "code",
     "collapsed": false,
     "input": [
      "import logging\n",
      "logging.root.setLevel('WARNING')"
     ],
     "language": "python",
     "metadata": {},
     "outputs": []
    },
    {
     "cell_type": "markdown",
     "metadata": {},
     "source": [
      "To log to a file as well as the console, run the following code:"
     ]
    },
    {
     "cell_type": "code",
     "collapsed": false,
     "input": [
      "import logging\n",
      "\n",
      "# get a handler object and set output format to Python's default\n",
      "hdlr = logging.FileHandler('/path/to/myfile.log')\n",
      "fmtr = logging.Formatter(logging.BASIC_FORMAT)\n",
      "hdlr.setFormatter(fmtr)\n",
      "\n",
      "# if you want, you can also specify the logging level for only this handler.\n",
      "# the following line will make the file contain all log messages:\n",
      "hdlr.setLevel('DEBUG')\n",
      "\n",
      "# add this handler to the root logger\n",
      "logging.root.addHandler(hdlr)"
     ],
     "language": "python",
     "metadata": {},
     "outputs": []
    },
    {
     "cell_type": "heading",
     "level": 2,
     "metadata": {},
     "source": [
      "Long version"
     ]
    },
    {
     "cell_type": "markdown",
     "metadata": {},
     "source": [
      "By default, warning, errors and critical messages will be shown in the console. You can change the verbosity (including info-level and debug-level messages) and the output (e.g., logging to a file).\n",
      "\n",
      "The different verbosity levels are:\n",
      "\n",
      "* CRITICAL\n",
      "* ERROR\n",
      "* WARNING\n",
      "* INFO\n",
      "* DEBUG\n",
      "\n",
      "Setting the verbosity to any of these will show messages from that level and above (more severe).\n",
      "\n",
      "All python loggers are descendants of the root logger, so you can get by with configuring the root logger only."
     ]
    },
    {
     "cell_type": "heading",
     "level": 3,
     "metadata": {},
     "source": [
      "Default"
     ]
    },
    {
     "cell_type": "markdown",
     "metadata": {},
     "source": [
      "Let's see what a warning message looks like by default:"
     ]
    },
    {
     "cell_type": "code",
     "collapsed": false,
     "input": [
      "import pydarn\n",
      "radars = pydarn.radar.network()\n",
      "\n",
      "# there is no radar with code 'abc', so this will return an error\n",
      "radars.getRadarByCode('abc')"
     ],
     "language": "python",
     "metadata": {},
     "outputs": [
      {
       "output_type": "stream",
       "stream": "stderr",
       "text": [
        "ERROR:pydarn.radar.radStruct:getRadarBy: could not find radar code: abc\n"
       ]
      },
      {
       "metadata": {},
       "output_type": "pyout",
       "prompt_number": 1,
       "text": [
        "False"
       ]
      }
     ],
     "prompt_number": 1
    },
    {
     "cell_type": "heading",
     "level": 3,
     "metadata": {},
     "source": [
      "Verbosity configuration"
     ]
    },
    {
     "cell_type": "code",
     "collapsed": false,
     "input": [
      "import logging\n",
      "\n",
      "# this will hide all ERROR messages and lower levels\n",
      "logging.root.setLevel('CRITICAL')\n",
      "\n",
      "# let's try, there should be no error message below:\n",
      "radars.getRadarByCode('abc')"
     ],
     "language": "python",
     "metadata": {},
     "outputs": [
      {
       "metadata": {},
       "output_type": "pyout",
       "prompt_number": 2,
       "text": [
        "False"
       ]
      }
     ],
     "prompt_number": 2
    },
    {
     "cell_type": "code",
     "collapsed": false,
     "input": [
      "# set back to WARNING again\n",
      "logging.root.setLevel('INFO')\n",
      "\n",
      "# the error message should be back\n",
      "radars.getRadarByCode('abc')"
     ],
     "language": "python",
     "metadata": {},
     "outputs": [
      {
       "output_type": "stream",
       "stream": "stderr",
       "text": [
        "ERROR:pydarn.radar.radStruct:getRadarBy: could not find radar code: abc\n"
       ]
      },
      {
       "metadata": {},
       "output_type": "pyout",
       "prompt_number": 3,
       "text": [
        "False"
       ]
      }
     ],
     "prompt_number": 3
    },
    {
     "cell_type": "heading",
     "level": 3,
     "metadata": {},
     "source": [
      "Output configuration"
     ]
    },
    {
     "cell_type": "markdown",
     "metadata": {},
     "source": [
      "Let's try to log to a file:"
     ]
    },
    {
     "cell_type": "code",
     "collapsed": false,
     "input": [
      "# log to a file in your home directory\n",
      "from os.path import expanduser\n",
      "filename = expanduser('~/davitpy_test.log')\n",
      "\n",
      "# get a handler object and set output format to Python's default\n",
      "hdlr = logging.FileHandler(filename)\n",
      "fmtr = logging.Formatter(logging.BASIC_FORMAT)\n",
      "hdlr.setFormatter(fmtr)\n",
      "\n",
      "# if you want, you can also specify the logging level for only this handler.\n",
      "# the following line will make the file contain all log messages:\n",
      "hdlr.setLevel('DEBUG')\n",
      "\n",
      "# add this handler to the root logger\n",
      "logging.root.addHandler(hdlr)"
     ],
     "language": "python",
     "metadata": {},
     "outputs": [],
     "prompt_number": 4
    },
    {
     "cell_type": "code",
     "collapsed": false,
     "input": [
      "# now the error message should appear both below and in the file\n",
      "radars.getRadarByCode('abc')\n",
      "\n",
      "# if you run this cell multiple times, each log message will be appended to the file."
     ],
     "language": "python",
     "metadata": {},
     "outputs": [
      {
       "output_type": "stream",
       "stream": "stderr",
       "text": [
        "ERROR:pydarn.radar.radStruct:getRadarBy: could not find radar code: abc\n"
       ]
      },
      {
       "metadata": {},
       "output_type": "pyout",
       "prompt_number": 5,
       "text": [
        "False"
       ]
      }
     ],
     "prompt_number": 5
    },
    {
     "cell_type": "markdown",
     "metadata": {},
     "source": [
      "The handlers for the root logger are given in the list ``logging.root.handlers``. Should you want to hide the log messages from the console and only log them to the file, you can remove the respective handler(s) from this list:"
     ]
    },
    {
     "cell_type": "code",
     "collapsed": false,
     "input": [
      "# show the current handlers, should be a StreamHandler and a FileHandler\n",
      "# (or more FileHandlers if you ran the cell which added the FileHandler many times)\n",
      "logging.root.handlers"
     ],
     "language": "python",
     "metadata": {},
     "outputs": [
      {
       "metadata": {},
       "output_type": "pyout",
       "prompt_number": 6,
       "text": [
        "[<logging.StreamHandler at 0x7febfe8e1f50>,\n",
        " <logging.FileHandler at 0x7febd97320d0>]"
       ]
      }
     ],
     "prompt_number": 6
    },
    {
     "cell_type": "code",
     "collapsed": false,
     "input": [
      "# remove the StreamHandler, assumed to be first in the list\n",
      "del logging.root.handlers[0]"
     ],
     "language": "python",
     "metadata": {},
     "outputs": [],
     "prompt_number": 7
    },
    {
     "cell_type": "code",
     "collapsed": false,
     "input": [
      "# show the current handlers, should be only a FileHandler in the list now\n",
      "logging.root.handlers"
     ],
     "language": "python",
     "metadata": {},
     "outputs": [
      {
       "metadata": {},
       "output_type": "pyout",
       "prompt_number": 8,
       "text": [
        "[<logging.FileHandler at 0x7febd97320d0>]"
       ]
      }
     ],
     "prompt_number": 8
    },
    {
     "cell_type": "code",
     "collapsed": false,
     "input": [
      "# now the error message should appear only in the file\n",
      "radars.getRadarByCode('abc')"
     ],
     "language": "python",
     "metadata": {},
     "outputs": [
      {
       "metadata": {},
       "output_type": "pyout",
       "prompt_number": 9,
       "text": [
        "False"
       ]
      }
     ],
     "prompt_number": 9
    },
    {
     "cell_type": "markdown",
     "metadata": {},
     "source": [
      "Let's add back the console handler (`sys.stderr`, which is the default when calling `StreamHandler()`):"
     ]
    },
    {
     "cell_type": "code",
     "collapsed": false,
     "input": [
      "# get a handler object and set output format to Python's default\n",
      "hdlr = logging.StreamHandler()\n",
      "fmtr = logging.Formatter(logging.BASIC_FORMAT)\n",
      "hdlr.setFormatter(fmtr)\n",
      "\n",
      "# add this handler to the root logger\n",
      "logging.root.addHandler(hdlr)"
     ],
     "language": "python",
     "metadata": {},
     "outputs": [],
     "prompt_number": 10
    },
    {
     "cell_type": "code",
     "collapsed": false,
     "input": [
      "# show the current handlers, should be a FileHandler and a StreamHandler\n",
      "logging.root.handlers"
     ],
     "language": "python",
     "metadata": {},
     "outputs": [
      {
       "metadata": {},
       "output_type": "pyout",
       "prompt_number": 11,
       "text": [
        "[<logging.FileHandler at 0x7febd97320d0>,\n",
        " <logging.StreamHandler at 0x7febd9734a10>]"
       ]
      }
     ],
     "prompt_number": 11
    },
    {
     "cell_type": "code",
     "collapsed": false,
     "input": [
      "# now the error message should appear both below and in the file\n",
      "radars.getRadarByCode('abc')"
     ],
     "language": "python",
     "metadata": {},
     "outputs": [
      {
       "output_type": "stream",
       "stream": "stderr",
       "text": [
        "ERROR:pydarn.radar.radStruct:getRadarBy: could not find radar code: abc\n"
       ]
      },
      {
       "metadata": {},
       "output_type": "pyout",
       "prompt_number": 12,
       "text": [
        "False"
       ]
      }
     ],
     "prompt_number": 12
    },
    {
     "cell_type": "heading",
     "level": 3,
     "metadata": {},
     "source": [
      "Advanced configuration"
     ]
    },
    {
     "cell_type": "markdown",
     "metadata": {},
     "source": [
      "For advanced usage, it is possible to configure the logging facility using dictionaries or config files instead of directly calling setLevel etc. See the documentation of the Python logging module for more information."
     ]
    }
   ],
   "metadata": {}
  }
 ]
}