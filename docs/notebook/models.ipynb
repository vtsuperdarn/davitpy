{
 "cells": [
  {
   "cell_type": "markdown",
   "metadata": {},
   "source": [
    "<a name=\"top\"></a>"
   ]
  },
  {
   "cell_type": "markdown",
   "metadata": {},
   "source": [
    "DaViTpy - models\n",
    "==\n",
    "***\n",
    "\n",
    "This notebook introduces useful space science models included in davitpy.  \n",
    "   \n",
    "Currently we have ported/wrapped the following models to python:  \n",
    "\n",
    "- <a href=\"#igrf\">IGRF-11</a>\n",
    "- <a href=\"#iri\">IRI</a>\n",
    "- <a href=\"#tsyg\">TSYGANENKO (T96)</a>\n",
    "- <a href=\"#msis\">MSIS (NRLMSISE00)</a>\n",
    "- <a href=\"#hwm\">HWM-07</a>\n",
    "- <a href=\"#hwm\">AACGM</a>"
   ]
  },
  {
   "cell_type": "code",
   "execution_count": null,
   "metadata": {},
   "outputs": [],
   "source": [
    "%pylab inline\n",
    "from datetime import datetime as dt\n",
    "from davitpy.models import *\n",
    "from davitpy import utils"
   ]
  },
  {
   "cell_type": "markdown",
   "metadata": {},
   "source": [
    "***\n",
    "###<a name=\"igrf\"/>IGRF - International Geomagnetic Reference Field\n",
    "<a href=\"#top\">[top]</a>"
   ]
  },
  {
   "cell_type": "code",
   "execution_count": null,
   "metadata": {
    "collapsed": true
   },
   "outputs": [],
   "source": [
    "# INPUTS\n",
    "itype = 1 # Geodetic coordinates\n",
    "pyDate = dt(2006,2,23)\n",
    "date = utils.dateToDecYear(pyDate) # decimal year\n",
    "alt = 300. # altitude\n",
    "stp = 5.\n",
    "xlti, xltf, xltd = -90.,90.,stp # latitude start, stop, step\n",
    "xlni, xlnf, xlnd = -180.,180.,stp # longitude start, stop, step\n",
    "ifl = 0 # Main field\n",
    "# Call fortran subroutine\n",
    "lat,lon,d,s,h,x,y,z,f = igrf.igrf11(itype,date,alt,ifl,xlti,xltf,xltd,xlni,xlnf,xlnd)"
   ]
  },
  {
   "cell_type": "code",
   "execution_count": null,
   "metadata": {},
   "outputs": [],
   "source": [
    "# Check that it worked by plotting magnetic dip angle contours on a map\n",
    "from mpl_toolkits.basemap import Basemap\n",
    "from mpl_toolkits.axes_grid1 import make_axes_locatable\n",
    "from numpy import meshgrid\n",
    "\n",
    "# Set figure\n",
    "fig = figure(figsize=(10,5))\n",
    "ax = fig.add_subplot(111)\n",
    "rcParams.update({'font.size': 14})\n",
    "\n",
    "# Set-up the map background\n",
    "map = Basemap(projection='cyl',llcrnrlat=-90,urcrnrlat=90,\\\n",
    "            llcrnrlon=-180,urcrnrlon=180,resolution='c')\n",
    "map.drawmapboundary()\n",
    "map.drawcoastlines(color='0.5')\n",
    "# draw parallels and meridians.\n",
    "map.drawparallels(np.arange(-80.,81.,20.))\n",
    "map.drawmeridians(np.arange(-180.,181.,20.))\n",
    "\n",
    "# The igrf output needs to be reshaped to be plotted\n",
    "dip = s.reshape((180./stp+1,360./stp+1))\n",
    "dec = d.reshape((180./stp+1,360./stp+1))\n",
    "lo = lon[0:(360./stp+1)]\n",
    "la = lat[0::(360./stp+1)]\n",
    "x,y = meshgrid(lo,la)\n",
    "v = arange(0,90,20)\n",
    "\n",
    "# Plot dip angle contours and labels\n",
    "cs = map.contour(x, y, abs(dip), v, latlon=True, linewidths=1.5, colors='k')\n",
    "labs = plt.clabel(cs, inline=1, fontsize=10)\n",
    "\n",
    "# Plot declination and colorbar\n",
    "im = map.pcolormesh(x, y, dec, vmin=-40, vmax=40, cmap='coolwarm')\n",
    "divider = make_axes_locatable(ax)\n",
    "cax = divider.append_axes(\"right\", \"3%\", pad=\"3%\")\n",
    "colorbar(im, cax=cax)\n",
    "cax.set_ylabel('Magnetic field declination')\n",
    "cticks = cax.get_yticklabels()\n",
    "cticks = [t.__dict__['_text'] for t in cticks]\n",
    "cticks[0], cticks[-1] = 'W', 'E'\n",
    "_ = cax.set_yticklabels(cticks)\n",
    "savefig('dipdec.png')"
   ]
  },
  {
   "cell_type": "code",
   "execution_count": null,
   "metadata": {},
   "outputs": [],
   "source": [
    "# Check that it worked by plotting magnetic dip angle contours on a map\n",
    "from mpl_toolkits.basemap import Basemap\n",
    "from mpl_toolkits.axes_grid1 import make_axes_locatable\n",
    "from numpy import meshgrid\n",
    "\n",
    "# Set figure\n",
    "fig = figure(figsize=(10,5))\n",
    "ax = fig.add_subplot(111)\n",
    "rcParams.update({'font.size': 14})\n",
    "\n",
    "# Set-up the map background\n",
    "map = Basemap(projection='cyl',llcrnrlat=-90,urcrnrlat=90,\\\n",
    "            llcrnrlon=-180,urcrnrlon=180,resolution='c')\n",
    "map.drawmapboundary()\n",
    "map.drawcoastlines(color='0.5')\n",
    "# draw parallels and meridians.\n",
    "map.drawparallels(np.arange(-80.,81.,20.))\n",
    "map.drawmeridians(np.arange(-180.,181.,20.))\n",
    "\n",
    "# The igrf output needs to be reshaped to be plotted\n",
    "babs = f.reshape((180./stp+1,360./stp+1))\n",
    "lo = lon[0:(360./stp+1)]\n",
    "la = lat[0::(360./stp+1)]\n",
    "x,y = meshgrid(lo,la)\n",
    "v = arange(0,90,20)\n",
    "\n",
    "# Plot declination and colorbar\n",
    "im = map.pcolormesh(x, y, babs, cmap='jet')\n",
    "divider = make_axes_locatable(ax)\n",
    "cax = divider.append_axes(\"right\", \"3%\", pad=\"3%\")\n",
    "colorbar(im, cax=cax)\n",
    "cax.set_ylabel('Magnetic field intensity [nT]')\n",
    "\n",
    "savefig('babs.png')"
   ]
  },
  {
   "cell_type": "markdown",
   "metadata": {},
   "source": [
    "***\n",
    "###<a name=\"iri\"/>IRI - International Reference Ionosphere\n",
    "<a href=\"#top\">[top]</a>"
   ]
  },
  {
   "cell_type": "markdown",
   "metadata": {},
   "source": [
    "*  **JF switches to turn off/on (True/False) several options**\n",
    "\n",
    "*  [0] :    True\n",
    "    * Ne computed            \n",
    "    * Ne not computed\n",
    "*  [1] :    True\n",
    "    * Te, Ti computed        \n",
    "    * Te, Ti not computed\n",
    "*  [2] :    True\n",
    "    * Ne & Ni computed       \n",
    "    * Ni not computed\n",
    "*  [3] :    False\n",
    "    * B0 - Table option      \n",
    "    * B0 - other models jf[30]\n",
    "*  [4] :    False\n",
    "    * foF2 - CCIR            \n",
    "    * foF2 - URSI\n",
    "*  [5] :    False\n",
    "    * Ni - DS-95 & DY-85     \n",
    "    * Ni - RBV-10 & TTS-03\n",
    "*  [6] :    True\n",
    "    * Ne - Tops: f10.7<188   \n",
    "    * f10.7 unlimited          \n",
    "*  [7] :    True\n",
    "    * foF2 from model        \n",
    "    * foF2 or NmF2 - user input\n",
    "*  [8] :    True\n",
    "    * hmF2 from model        \n",
    "    * hmF2 or M3000F2 - user input\n",
    "*  [9] :    True\n",
    "    * Te - Standard          \n",
    "    * Te - Using Te/Ne correlation\n",
    "* [10] :    True\n",
    "    * Ne - Standard Profile  \n",
    "    * Ne - Lay-function formalism\n",
    "* [11] :    True\n",
    "    * Messages to unit 6     \n",
    "    * to meesages.text on unit 11\n",
    "* [12] :    True\n",
    "    * foF1 from model        \n",
    "    * foF1 or NmF1 - user input\n",
    "* [13] :    True\n",
    "    * hmF1 from model        \n",
    "    * hmF1 - user input (only Lay version)\n",
    "* [14] :    True\n",
    "    * foE  from model        \n",
    "    * foE or NmE - user input\n",
    "* [15] :    True\n",
    "    * hmE  from model        \n",
    "    * hmE - user input\n",
    "* [16] :    True\n",
    "    * Rz12 from file         \n",
    "    * Rz12 - user input\n",
    "* [17] :    True\n",
    "    * IGRF dip, magbr, modip \n",
    "    * old FIELDG using POGO68/10 for 1973\n",
    "* [18] :    True\n",
    "    * F1 probability model   \n",
    "    * critical solar zenith angle (old)\n",
    "* [19] :    True\n",
    "    * standard F1            \n",
    "    * standard F1 plus L condition\n",
    "* [20] :    False\n",
    "    * ion drift computed     \n",
    "    * ion drift not computed\n",
    "* [21] :    True\n",
    "    * ion densities in %     \n",
    "    * ion densities in m-3\n",
    "* [22] :    False\n",
    "    * Te_tops (Aeros,ISIS)   \n",
    "    * Te_topside (TBT-2011)\n",
    "* [23] :    True\n",
    "    * D-region: IRI-95       \n",
    "    * Special: 3 D-region models\n",
    "* [24] :    True\n",
    "    * F107D from APF107.DAT  \n",
    "    * F107D user input (oarr[41])\n",
    "* [25] :    True\n",
    "    * foF2 storm model       \n",
    "    * no storm updating\n",
    "* [26] :    True\n",
    "    * IG12 from file         \n",
    "    * IG12 - user\n",
    "* [27] :    False\n",
    "    * spread-F probability   \n",
    "    * not computed\n",
    "* [28] :    False\n",
    "    * IRI01-topside          \n",
    "    * new options as def. by JF[30]\n",
    "* [29] :    False\n",
    "    * IRI01-topside corr.    \n",
    "    * NeQuick topside model\n",
    "* [28,29]:\n",
    "    * [t,t] IRIold, \n",
    "    * [f,t] IRIcor, \n",
    "    * [f,f] NeQuick, \n",
    "    * [t,f] Gulyaeva\n",
    "* [30] :    True\n",
    "    * B0,B1 ABT-2009     \n",
    "    * B0 Gulyaeva h0.5\n",
    "* [31] :    True\n",
    "    * F10.7_81 from file     \n",
    "    * PF10.7_81 - user input (oarr[45])\n",
    "* [32] :    False\n",
    "    * Auroral boundary model on\n",
    "    * Auroral boundary model off\n",
    "* [33] :    True\n",
    "    * Messages on            \n",
    "    * Messages off\n",
    "* [34] :    False\n",
    "    * foE storm model        \n",
    "    * no foE storm updating\n",
    "* [..] :    ....\n",
    "* [50] :    ...."
   ]
  },
  {
   "cell_type": "code",
   "execution_count": null,
   "metadata": {
    "collapsed": true
   },
   "outputs": [],
   "source": [
    "# Inputs\n",
    "jf = [True]*50\n",
    "jf[2:6] = [False]*4\n",
    "jf[20] = False\n",
    "jf[22] = False\n",
    "jf[27:30] = [False]*3\n",
    "jf[32] = False\n",
    "jf[34] = False\n",
    "jmag = 0.\n",
    "alati = 40. \n",
    "along = -80.\n",
    "iyyyy = 2012\n",
    "mmdd = 806 \n",
    "dhour = 12. \n",
    "heibeg, heiend, heistp = 80., 500., 10. \n",
    "oarr = np.zeros(100)\n",
    "# Call fortran subroutine\n",
    "outf,oarr = iri.iri_sub(jf,jmag,alati,along,iyyyy,mmdd,dhour,heibeg,heiend,heistp,oarr)"
   ]
  },
  {
   "cell_type": "code",
   "execution_count": null,
   "metadata": {},
   "outputs": [],
   "source": [
    "# Check that it worked by plotting vertical electron density profile\n",
    "figure(figsize=(5,8))\n",
    "\n",
    "alt = np.arange(heibeg,heiend,heistp)\n",
    "ax = plot(outf[0,0:len(alt)],alt)\n",
    "\n",
    "xlabel(r'Electron density [m$^{-3}$]')\n",
    "ylabel('Altitude [km]')\n",
    "grid(True)\n",
    "rcParams.update({'font.size': 12})"
   ]
  },
  {
   "cell_type": "markdown",
   "metadata": {},
   "source": [
    "***\n",
    "###<a name=\"tsyg\"/>Tsyganenko (Geopack and T96)\n",
    "<a href=\"#top\">[top]</a>"
   ]
  },
  {
   "cell_type": "markdown",
   "metadata": {},
   "source": [
    "- **The \"Porcelain\" way** (recommended)"
   ]
  },
  {
   "cell_type": "code",
   "execution_count": null,
   "metadata": {},
   "outputs": [],
   "source": [
    "lats = range(10, 90, 10)\n",
    "lons = zeros(len(lats))\n",
    "rhos = 6372.*ones(len(lats))\n",
    "trace = tsyganenko.tsygTrace(lats, lons, rhos)\n",
    "print trace\n",
    "ax = trace.plot()"
   ]
  },
  {
   "cell_type": "markdown",
   "metadata": {},
   "source": [
    "- **The \"Plumbing\" way**"
   ]
  },
  {
   "cell_type": "code",
   "execution_count": null,
   "metadata": {},
   "outputs": [],
   "source": [
    "# Inputs\n",
    "# Date and time\n",
    "year = 2000\n",
    "doy = 1\n",
    "hr = 1\n",
    "mn = 0\n",
    "sc = 0\n",
    "# Solar wind speed\n",
    "vxgse = -400.\n",
    "vygse = 0.\n",
    "vzgse = 0.\n",
    "# Execution parameters\n",
    "lmax = 5000\n",
    "rlim = 60. \n",
    "r0 = 1. \n",
    "dsmax = .01\n",
    "err = .000001\n",
    "# Direction of the tracing\n",
    "mapto = 1\n",
    "# Magnetic activity [SW pressure (nPa), Dst, ByIMF, BzIMF]\n",
    "parmod = np.zeros(10)\n",
    "parmod[0:4] = [2, -8, -2, -5]\n",
    "# Start point (rh in Re)\n",
    "lat = 50.\n",
    "lon = 0.\n",
    "rh = 0.\n",
    "\n",
    "# This has to be called first\n",
    "tsyganenko.tsygFort.recalc_08(year,doy,hr,mn,sc,vxgse,vygse,vzgse)\n",
    "\n",
    "# Convert lat,lon to geographic cartesian and then gsw\n",
    "r,theta,phi, xgeo, ygeo, zgeo = tsyganenko.tsygFort.sphcar_08(1., np.radians(90.-lat), np.radians(lon), 0., 0., 0., 1)\n",
    "xgeo,ygeo,zgeo,xgsw,ygsw,zgsw  = tsyganenko.tsygFort.geogsw_08(xgeo, ygeo, zgeo,0,0,0,1)\n",
    "\n",
    "# Trace field line\n",
    "xfgsw,yfgsw,zfgsw,xarr,yarr,zarr,l = tsyganenko.tsygFort.trace_08(xgsw,ygsw,zgsw,mapto,dsmax,err, \n",
    "    rlim,r0,0,parmod,'T96_01','IGRF_GSW_08',lmax) \n",
    "\n",
    "# Convert back to spherical geographic coords\n",
    "xfgeo,yfgeo,zfgeo,xfgsw,yfgsw,zfgsw  = tsyganenko.tsygFort.geogsw_08(0,0,0,xfgsw,yfgsw,zfgsw,-1)\n",
    "gcR, gdcolat, gdlon, xgeo, ygeo, zgeo = tsyganenko.tsygFort.sphcar_08(0., 0., 0., xfgeo, yfgeo, zfgeo, -1)\n",
    "\n",
    "\n",
    "print '** START: {:6.3f}, {:6.3f}, {:6.3f}'.format(lat, lon, 1.)\n",
    "print '** STOP:  {:6.3f}, {:6.3f}, {:6.3f}'.format(90.-np.degrees(gdcolat), np.degrees(gdlon), gcR)"
   ]
  },
  {
   "cell_type": "code",
   "execution_count": null,
   "metadata": {},
   "outputs": [],
   "source": [
    "# A quick checking plot\n",
    "from mpl_toolkits.mplot3d import proj3d\n",
    "import numpy as np\n",
    "fig = plt.figure(figsize=(10,10))\n",
    "ax = fig.add_subplot(111, projection='3d')\n",
    "# Plot coordinate system\n",
    "ax.plot3D([0,1],[0,0],[0,0],'b')\n",
    "ax.plot3D([0,0],[0,1],[0,0],'g')\n",
    "ax.plot3D([0,0],[0,0],[0,1],'r')\n",
    "\n",
    "# First plot a nice sphere for the Earth\n",
    "u = np.linspace(0, 2 * np.pi, 179)\n",
    "v = np.linspace(0, np.pi, 179)\n",
    "tx = np.outer(np.cos(u), np.sin(v))\n",
    "ty = np.outer(np.sin(u), np.sin(v))\n",
    "tz = np.outer(np.ones(np.size(u)), np.cos(v))\n",
    "ax.plot_surface(tx,ty,tz,rstride=10, cstride=10, color='grey', alpha=.5, zorder=2, linewidth=0.5)\n",
    "\n",
    "# Then plot the traced field line\n",
    "latarr = [10.,20.,30.,40.,50.,60.,70.,80.]\n",
    "lonarr = [0., 180.]\n",
    "rh = 0.\n",
    "for lon in lonarr:\n",
    "    for lat in latarr:\n",
    "        r,theta,phi, xgeo, ygeo, zgeo = tsyganenko.tsygFort.sphcar_08(1., np.radians(90.-lat), np.radians(lon), 0., 0., 0., 1)\n",
    "        xgeo,ygeo,zgeo,xgsw,ygsw,zgsw  = tsyganenko.tsygFort.geogsw_08(xgeo, ygeo, zgeo,0,0,0,1)\n",
    "        xfgsw,yfgsw,zfgsw,xarr,yarr,zarr,l = tsyganenko.tsygFort.trace_08(xgsw,ygsw,zgsw,mapto,dsmax,err, \n",
    "            rlim,r0,0,parmod,'T96_01','IGRF_GSW_08',lmax) \n",
    "        for i in xrange(l):\n",
    "            xgeo,ygeo,zgeo,dum,dum,dum  = tsyganenko.tsygFort.geogsw_08(0,0,0,xarr[i],yarr[i],zarr[i],-1)\n",
    "            xarr[i],yarr[i],zarr[i] = xgeo,ygeo,zgeo\n",
    "        ax.plot3D(xarr[0:l],yarr[0:l],zarr[0:l], zorder=3, linewidth=2, color='y')\n",
    "\n",
    "# Set plot limits\n",
    "lim=4\n",
    "ax.set_xlim3d([-lim,lim])\n",
    "ax.set_ylim3d([-lim,lim])\n",
    "ax.set_zlim3d([-lim,lim])"
   ]
  },
  {
   "cell_type": "markdown",
   "metadata": {},
   "source": [
    "***\n",
    "###<a name=\"msis\"/>MSIS - Mass Spectrometer and Incoherent Scatter Radar\n",
    "<a href=\"#top\">[top]</a>"
   ]
  },
  {
   "cell_type": "markdown",
   "metadata": {},
   "source": [
    "####The fortran subroutine needed is gtd7:\n",
    "* **INPUTS**:\n",
    "  * **IYD** - year and day as YYDDD (day of year from 1 to 365 (or 366)) (Year ignored in current model)\n",
    "  * **SEC** - UT (SEC)\n",
    "  * **ALT** - altitude (KM)\n",
    "  * **GLAT** - geodetic latitude (DEG)\n",
    "  * **GLONG** - geodetic longitude (DEG)\n",
    "  * **STL** - local aparent solar time (HRS; see Note below)\n",
    "  * **F107A** - 81 day average of F10.7 flux (centered on day DDD)\n",
    "  * **F107** - daily F10.7 flux for previous day\n",
    "  * **AP** - magnetic index (daily) OR when SW(9)=-1., array containing:\n",
    "      * (1) daily AP\n",
    "      * (2) 3 HR AP index FOR current time\n",
    "      * (3) 3 HR AP index FOR 3 hrs before current time\n",
    "      * (4) 3 HR AP index FOR 6 hrs before current time\n",
    "      * (5) 3 HR AP index FOR 9 hrs before current time\n",
    "      * (6) average of height 3 HR AP indices from 12 TO 33 HRS prior to current time\n",
    "      * (7) average of height 3 HR AP indices from 36 TO 57 HRS prior to current time\n",
    "  * **MASS** - mass number (only density for selected gass is calculated.  MASS 0 is temperature.  \n",
    "    MASS 48 for ALL. MASS 17 is Anomalous O ONLY.)\n",
    "* **OUTPUTS**:\n",
    "  * **D(1)** - HE number density(CM-3)\n",
    "  * **D(2)** - O number density(CM-3)\n",
    "  * **D(3)** - N2 number density(CM-3)\n",
    "  * **D(4)** - O2 number density(CM-3)\n",
    "  * **D(5)** - AR number density(CM-3)                       \n",
    "  * **D(6)** - total mass density(GM/CM3)\n",
    "  * **D(7)** - H number density(CM-3)\n",
    "  * **D(8)** - N number density(CM-3)\n",
    "  * **D(9)** - Anomalous oxygen number density(CM-3)\n",
    "  * **T(1)** - exospheric temperature\n",
    "  * **T(2)** - temperature at ALT"
   ]
  },
  {
   "cell_type": "code",
   "execution_count": null,
   "metadata": {
    "collapsed": true
   },
   "outputs": [],
   "source": [
    "# Inputs\n",
    "import datetime as dt\n",
    "myDate = dt.datetime(2012, 7, 5, 12, 35)\n",
    "glat = 40.\n",
    "glon = -80.\n",
    "mass = 48\n",
    "\n",
    "# First, MSIS needs a bunch of input which can be obtained from tabulated values\n",
    "# This function was written to access these values (not provided with MSIS by default)\n",
    "solInput = msis.getF107Ap(myDate)\n",
    "\n",
    "# Also, to switch to SI units:\n",
    "msis.meters(True)\n",
    "\n",
    "# Other input conversion\n",
    "iyd = (myDate.year - myDate.year/100*100)*100 + myDate.timetuple().tm_yday\n",
    "sec = myDate.hour*24. + myDate.minute*60.\n",
    "stl = sec/3600. + glon/15."
   ]
  },
  {
   "cell_type": "code",
   "execution_count": null,
   "metadata": {
    "collapsed": true
   },
   "outputs": [],
   "source": [
    "altitude = linspace(0., 500., 100)\n",
    "temp = zeros(shape(altitude))\n",
    "dens = zeros(shape(altitude))\n",
    "N2dens = zeros(shape(altitude))\n",
    "O2dens = zeros(shape(altitude))\n",
    "Odens = zeros(shape(altitude))\n",
    "Ndens = zeros(shape(altitude))\n",
    "Ardens = zeros(shape(altitude))\n",
    "Hdens = zeros(shape(altitude))\n",
    "Hedens = zeros(shape(altitude))\n",
    "for ia,alt in enumerate(altitude):\n",
    "    d,t = msis.gtd7(iyd, sec, alt, glat, glon, stl, solInput['f107a'], solInput['f107'], solInput['ap'], mass)\n",
    "    temp[ia] = t[1]\n",
    "    dens[ia] = d[5]\n",
    "    N2dens[ia] = d[2]\n",
    "    O2dens[ia] = d[3]\n",
    "    Ndens[ia] = d[7]\n",
    "    Odens[ia] = d[1]\n",
    "    Hdens[ia] = d[6]\n",
    "    Hedens[ia] = d[0]\n",
    "    Ardens[ia] = d[4]"
   ]
  },
  {
   "cell_type": "code",
   "execution_count": null,
   "metadata": {},
   "outputs": [],
   "source": [
    "figure(figsize=(16,8))\n",
    "#rcParams.update({'font.size': 12})\n",
    "\n",
    "subplot(131)\n",
    "plot(temp, altitude)\n",
    "gca().set_xscale('log')\n",
    "xlabel('Temp. [K]')\n",
    "ylabel('Altitude [km]')\n",
    "\n",
    "subplot(132)\n",
    "plot(dens, altitude)\n",
    "gca().set_xscale('log')\n",
    "gca().set_yticklabels([])\n",
    "xlabel(r'Mass dens. [kg/m$^3$]')\n",
    "\n",
    "subplot(133)\n",
    "plot(Odens, altitude, 'r-', \n",
    "     O2dens, altitude, 'r--',\n",
    "     Ndens, altitude, 'g-',\n",
    "     N2dens, altitude, 'g--',\n",
    "     Hdens, altitude, 'b-',\n",
    "     Hedens, altitude, 'y-',\n",
    "     Ardens, altitude, 'm-')\n",
    "gca().set_xscale('log')\n",
    "gca().set_yticklabels([])\n",
    "xlabel(r'Density [m$^3$]')\n",
    "leg = legend(  (r'O', \n",
    "                r'O$_2$', \n",
    "                r'N',\n",
    "                r'N$_2$',\n",
    "                r'H',\n",
    "                r'He',\n",
    "                r'Ar',),\n",
    "           'upper right')\n",
    "\n",
    "tight_layout()"
   ]
  },
  {
   "cell_type": "markdown",
   "metadata": {},
   "source": [
    "***\n",
    "###<a name=\"hwm\"/>HWM07: Horizontal Wind Model\n",
    "<a href=\"#top\">[top]</a>\n",
    "\n",
    "* **Input arguments**:\n",
    "    * **iyd** - year and day as yyddd\n",
    "    * **sec** - ut(sec)\n",
    "    * **alt** - altitude(km)\n",
    "    * **glat** - geodetic latitude(deg)\n",
    "    * **glon** - geodetic longitude(deg)\n",
    "    * **stl** - not used\n",
    "    * **f107a** - not used\n",
    "    * **f107** - not used\n",
    "    * **ap** - two element array with    \n",
    "        * ap(1) = not used    \n",
    "        * ap(2) = current 3hr ap index\n",
    "\n",
    "* **Output argument**:\n",
    "   * **w(1)** = meridional wind (m/sec + northward)\n",
    "   * **w(2)** = zonal wind (m/sec + eastward)"
   ]
  },
  {
   "cell_type": "code",
   "execution_count": null,
   "metadata": {},
   "outputs": [],
   "source": [
    "w = hwm.hwm07(11001, 0., 200., 40., -80., 0, 0, 0, [0, 0])"
   ]
  },
  {
   "cell_type": "code",
   "execution_count": null,
   "metadata": {
    "collapsed": true
   },
   "outputs": [],
   "source": [
    "print w"
   ]
  },
  {
   "cell_type": "markdown",
   "metadata": {},
   "source": [
    "***\n",
    "###<a name=\"hwm\"/>AACGM--Altitude Adjusted Corrected Geomagnetic Coordinates</a>\n",
    "<a href=\"http://superdarn.jhuapl.edu/software/analysis/aacgm/\">AACGM Homepage</a><br>\n",
    "<a href=\"#top\">[top]</a>\n",
    "\n",
    "**models.aacgm.aacgmConv(lat,lon,alt,flg)**\n",
    "\n",
    "convert between geographic coords and aacgm\n",
    "\n",
    "* **Input arguments**:\n",
    "    * **lat** - latitude\n",
    "    * **lon** - longitude\n",
    "    * **alt** - altitude(km)\n",
    "    * **flg** - flag to indicate geo to AACGM (0) or AACGM to geo (1)\n",
    "\n",
    "* **Outputs**:\n",
    "   * **olat** = output latitude\n",
    "   * **olon** = output longitude\n",
    "   * **r** = the accuracy of the transform"
   ]
  },
  {
   "cell_type": "code",
   "execution_count": null,
   "metadata": {
    "collapsed": true
   },
   "outputs": [],
   "source": [
    "#geo to aacgm\n",
    "glat,glon,r = aacgm.aacgmConv(42.0,-71.4,300.,2000,0)\n",
    "print glat, glon, r"
   ]
  },
  {
   "cell_type": "code",
   "execution_count": null,
   "metadata": {
    "collapsed": true
   },
   "outputs": [],
   "source": [
    "#aacgm to geo\n",
    "glat,glon,r = aacgm.aacgmConv(52.7,6.6,300.,2000,1)\n",
    "print glat, glon, r"
   ]
  },
  {
   "cell_type": "markdown",
   "metadata": {},
   "source": [
    "**models.aacgm.aacgmConvArr(lat,lon,alt,flg)**\n",
    "\n",
    "convert between geographic coords and aacgm (array form)\n",
    "\n",
    "* **Input arguments**:\n",
    "    * **lat** - latitude list\n",
    "    * **lon** - longitude list\n",
    "    * **alt** - altitude(km) list\n",
    "    * **flg** - flag to indicate geo to AACGM (0) or AACGM to geo (1)\n",
    "\n",
    "* **Outputs**:\n",
    "   * **olat** = output latitude list\n",
    "   * **olon** = output longitude list\n",
    "   * **r** = the accuracy of the transform"
   ]
  },
  {
   "cell_type": "code",
   "execution_count": null,
   "metadata": {
    "collapsed": true
   },
   "outputs": [],
   "source": [
    "#geo to aacgm\n",
    "olat,olon,r = aacgm.aacgmConvArr([10.,20.,30.,40.],[80.,90.,100.,110.],[100.,150.,200.,250.],2000,0)\n",
    "print olat\n",
    "print olon\n",
    "print r"
   ]
  },
  {
   "cell_type": "markdown",
   "metadata": {},
   "source": [
    "**models.aacgm.mltFromEpoch(epoch,mlon)**\n",
    "\n",
    "calculate magnetic local time from epoch time and mag lon\n",
    "\n",
    "* **Input arguments**:\n",
    "    * **epoch** - the target time in epoch format\n",
    "    * **mlon** - the input magnetic longitude\n",
    "\n",
    "* **Outputs**:\n",
    "   * **mlt** = the magnetic local time\n"
   ]
  },
  {
   "cell_type": "code",
   "execution_count": null,
   "metadata": {
    "collapsed": true
   },
   "outputs": [],
   "source": [
    "import datetime as dt\n",
    "myDate = dt.datetime(2012,7,10)\n",
    "epoch = utils.timeUtils.datetimeToEpoch(myDate)\n",
    "mlt = aacgm.mltFromEpoch(epoch,52.7)\n",
    "print mlt"
   ]
  },
  {
   "cell_type": "markdown",
   "metadata": {},
   "source": [
    "**models.aacgm.mltFromYmdhms(yr,mo,dy,hr,mt,sc,mlon)**\n",
    "\n",
    "calculate magnetic local time from  year, month, day, hour, minute, second and mag lon\n",
    "\n",
    "* **Input arguments**:\n",
    "    * **yr** - the year\n",
    "    * **mo** - the month\n",
    "    * **dy** - the day\n",
    "    * **hr** - the hour\n",
    "    * **mt** - the minute\n",
    "    * **sc** - the second\n",
    "    * **mlon** - the input magnetic longitude\n",
    "\n",
    "* **Outputs**:\n",
    "   * **mlt** = the magnetic local time"
   ]
  },
  {
   "cell_type": "code",
   "execution_count": null,
   "metadata": {
    "collapsed": true
   },
   "outputs": [],
   "source": [
    "mlt = aacgm.mltFromYmdhms(2012,7,10,0,0,0,52.7)\n",
    "print mlt"
   ]
  },
  {
   "cell_type": "markdown",
   "metadata": {},
   "source": [
    "**models.aacgm.mltFromYrsec(yr,yrsec,mlon)**\n",
    "\n",
    "calculate magnetic local time from seconds elapsed in the year and mag lon\n",
    "\n",
    "* **Input arguments**:\n",
    "    * **yr** - the year\n",
    "    * **yrsec** - the year seconds\n",
    "    * **mlon** - the input magnetic longitude\n",
    "\n",
    "* **Outputs**:\n",
    "   * **mlt** = the magnetic local time"
   ]
  },
  {
   "cell_type": "code",
   "execution_count": null,
   "metadata": {
    "collapsed": true
   },
   "outputs": [],
   "source": [
    "yrsec = int(utils.timeUtils.datetimeToEpoch(dt.datetime(2012,7,10)) - utils.timeUtils.datetimeToEpoch(dt.datetime(2012,1,1)))\n",
    "print yrsec\n",
    "mlt = aacgm.mltFromYrsec(2013,yrsec,52.7)\n",
    "print mlt"
   ]
  },
  {
   "cell_type": "code",
   "execution_count": null,
   "metadata": {
    "collapsed": true
   },
   "outputs": [],
   "source": []
  }
 ],
 "metadata": {
  "kernelspec": {
   "display_name": "Python 2",
   "language": "python",
   "name": "python2"
  },
  "language_info": {
   "codemirror_mode": {
    "name": "ipython",
    "version": 2
   },
   "file_extension": ".py",
   "mimetype": "text/x-python",
   "name": "python",
   "nbconvert_exporter": "python",
   "pygments_lexer": "ipython2",
   "version": "2.7.13"
  }
 },
 "nbformat": 4,
 "nbformat_minor": 1
}
